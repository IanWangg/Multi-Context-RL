{
 "cells": [
  {
   "cell_type": "code",
   "execution_count": 1,
   "metadata": {},
   "outputs": [
    {
     "name": "stdout",
     "output_type": "stream",
     "text": [
      "mkdir: log: File exists\n",
      "The autoreload extension is already loaded. To reload it, use:\n",
      "  %reload_ext autoreload\n"
     ]
    }
   ],
   "source": [
    "import sys,os\n",
    "sys.path.append('../')\n",
    "sys.path.append('./')\n",
    "from deep_rl import *\n",
    "import matplotlib.pyplot as plt\n",
    "import torch\n",
    "from tqdm import trange, tqdm\n",
    "import random\n",
    "import numpy as np\n",
    "%load_ext autoreload\n",
    "%reload_ext autoreload\n",
    "%autoreload 2\n",
    "!mkdir log\n",
    "\n",
    "import sys,os\n",
    "sys.path.append('')\n",
    "from deep_rl import *\n",
    "import matplotlib.pyplot as plt\n",
    "import torch\n",
    "from tqdm import trange, tqdm\n",
    "import random\n",
    "import numpy as np\n",
    "%load_ext autoreload\n",
    "%reload_ext autoreload\n",
    "%autoreload 2"
   ]
  },
  {
   "cell_type": "code",
   "execution_count": null,
   "metadata": {},
   "outputs": [],
   "source": [
    "def dsr_feature_init(ref,**kwargs):\n",
    "    generate_tag(kwargs)\n",
    "    kwargs.setdefault('log_level', 0)\n",
    "    config = Config()\n",
    "    config.async_actor = False\n",
    "    config.merge(kwargs)\n",
    "\n",
    "    config.task_fn = lambda: Task(config.game)\n",
    "    config.eval_env = config.task_fn()\n",
    "    config.c = 1\n",
    "\n",
    "    config.optimizer_fn = lambda params: torch.optim.RMSprop(params, 0.002)\n",
    "    config.network_fn = lambda: SRNetCNN(config.action_dim, SRIdentityBody(config.state_dim), \\\n",
    "                                      hidden_units=(2000,), config=config.style) #CHECK\n",
    "    config.replay_fn = lambda: AsyncReplay(memory_size=int(1e5), batch_size=10)\n",
    "\n",
    "    config.random_action_prob = LinearSchedule(1.0, 0.1, linear_schedule_dqn)\n",
    "    config.discount = 0.99\n",
    "    config.target_network_update_freq = 200\n",
    "    config.exploration_steps = 0\n",
    "    # config.double_q = True\n",
    "    config.double_q = False\n",
    "    config.sgd_update_frequency = 4\n",
    "    config.gradient_clip = 5\n",
    "    config.eval_interval = int(5e3)\n",
    "    config.max_steps = max_step_dqn\n",
    "    config.async_actor = False\n",
    "    \n",
    "    agent = DSRAgent(config)\n",
    "    #run_steps function below\n",
    "    config = agent.config\n",
    "    agent_name = agent.__class__.__name__\n",
    "    if(ref is not None):\n",
    "        print(agent.network.load_state_dict(ref.network.state_dict(), strict=False))\n",
    "    t0 = time.time()\n",
    "    while True:\n",
    "        if config.save_interval and not agent.total_steps % config.save_interval:\n",
    "            agent.save('data/%s-%s-%d' % (agent_name, config.tag, agent.total_steps))\n",
    "        if config.log_interval and not agent.total_steps % config.log_interval:\n",
    "#             agent.logger.info('steps %d, %.2f steps/s' % (agent.total_steps, config.log_interval / (time.time() - t0)))\n",
    "            t0 = time.time()\n",
    "        if config.eval_interval and not agent.total_steps % config.eval_interval:\n",
    "            agent.eval_episodes()\n",
    "        if config.max_steps and agent.total_steps >= config.max_steps:\n",
    "            return agent\n",
    "            break\n",
    "#         import pdb; pdb.set_trace()\n",
    "        agent.step()\n",
    "        agent.switch_task()\n",
    "        \n",
    "    return agent"
   ]
  }
 ],
 "metadata": {
  "kernelspec": {
   "display_name": "venv-MPSF",
   "language": "python",
   "name": "venv-mpsf"
  },
  "language_info": {
   "codemirror_mode": {
    "name": "ipython",
    "version": 3
   },
   "file_extension": ".py",
   "mimetype": "text/x-python",
   "name": "python",
   "nbconvert_exporter": "python",
   "pygments_lexer": "ipython3",
   "version": "3.6.5"
  }
 },
 "nbformat": 4,
 "nbformat_minor": 4
}
